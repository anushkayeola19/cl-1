{
 "cells": [
  {
   "cell_type": "markdown",
   "id": "80c8b086",
   "metadata": {},
   "source": [
    "# Implementation of Support Vector Machines (SVM) for classifying images of handwritten digits into their respective numerical classes (0 to 9)."
   ]
  },
  {
   "cell_type": "code",
   "execution_count": 1,
   "id": "01b25c0a",
   "metadata": {},
   "outputs": [],
   "source": [
    "# Necessary imports\n",
    "import pandas as pd\n",
    "import numpy as np\n",
    "import matplotlib.pyplot as plt\n",
    "import seaborn as sns"
   ]
  },
  {
   "cell_type": "code",
   "execution_count": 2,
   "id": "85be2ada",
   "metadata": {},
   "outputs": [],
   "source": [
    "# dataset loading\n",
    "from sklearn.datasets import load_digits\n",
    "data = load_digits().data\n",
    "target = load_digits().target"
   ]
  },
  {
   "cell_type": "code",
   "execution_count": 3,
   "id": "d96d4a4f",
   "metadata": {},
   "outputs": [
    {
     "data": {
      "text/plain": [
       "((1797, 64), (1797,))"
      ]
     },
     "execution_count": 3,
     "metadata": {},
     "output_type": "execute_result"
    }
   ],
   "source": [
    "data.shape, target.shape"
   ]
  },
  {
   "cell_type": "code",
   "execution_count": 4,
   "id": "4a7d9f6b",
   "metadata": {},
   "outputs": [
    {
     "data": {
      "image/png": "[encoded data removed]",
      "text/plain": [
       "<Figure size 640x480 with 1 Axes>"
      ]
     },
     "metadata": {},
     "output_type": "display_data"
    }
   ],
   "source": [
    "# Plot the digit\n",
    "plt.imshow(data[0].reshape(8,8))\n",
    "plt.title(target[0])\n",
    "plt.show()"
   ]
  },
  {
   "cell_type": "code",
   "execution_count": 5,
   "id": "2cc7078f",
   "metadata": {},
   "outputs": [
    {
     "data": {
      "image/png": "[encoded data removed]",
      "text/plain": [
       "<Figure size 640x480 with 1 Axes>"
      ]
     },
     "metadata": {},
     "output_type": "display_data"
    }
   ],
   "source": [
    "# Plot the digit\n",
    "plt.imshow(data[1690].reshape(8,8))\n",
    "plt.title(target[1690])\n",
    "plt.show()"
   ]
  },
  {
   "cell_type": "code",
   "execution_count": 6,
   "id": "154f41f7",
   "metadata": {},
   "outputs": [
    {
     "data": {
      "text/plain": [
       "(array([0, 1, 2, 3, 4, 5, 6, 7, 8, 9]),\n",
       " array([178, 182, 177, 183, 181, 182, 181, 179, 174, 180], dtype=int64))"
      ]
     },
     "execution_count": 6,
     "metadata": {},
     "output_type": "execute_result"
    }
   ],
   "source": [
    "# Each class and their unique elements\n",
    "np.unique(target,return_counts=True)"
   ]
  },
  {
   "cell_type": "code",
   "execution_count": 11,
   "id": "96cf696c",
   "metadata": {},
   "outputs": [],
   "source": [
    "# Train test split\n",
    "#split = int(0.8 * len(data))\n",
    "#X_train,y_train = data[:split,:], target[:split]\n",
    "#X_test,y_test = data[split:,:],target[split:]\n",
    "from sklearn.model_selection import train_test_split\n",
    "X = data\n",
    "y = target\n",
    "X_train, X_test, y_train, y_test = train_test_split(X, y, test_size=0.2, random_state=42)"
   ]
  },
  {
   "cell_type": "code",
   "execution_count": 12,
   "id": "97f826b1",
   "metadata": {},
   "outputs": [
    {
     "data": {
      "text/plain": [
       "((1437, 64), (360, 64), (1437,), (360,))"
      ]
     },
     "execution_count": 12,
     "metadata": {},
     "output_type": "execute_result"
    }
   ],
   "source": [
    "X_train.shape,X_test.shape,y_train.shape,y_test.shape"
   ]
  },
  {
   "cell_type": "markdown",
   "id": "0c9645ba",
   "metadata": {},
   "source": [
    "# Preprocessing and Model Training"
   ]
  },
  {
   "cell_type": "code",
   "execution_count": 13,
   "id": "d03569e9",
   "metadata": {},
   "outputs": [],
   "source": [
    "from sklearn.preprocessing import StandardScaler\n",
    "from sklearn import svm\n",
    "from sklearn.metrics import confusion_matrix"
   ]
  },
  {
   "cell_type": "code",
   "execution_count": 14,
   "id": "39d12e08",
   "metadata": {},
   "outputs": [
    {
     "data": {
      "text/plain": [
       "array([[ 0.        , -0.34169755, -1.08739895, ...,  1.22242526,\n",
       "         0.70096084, -0.19710003],\n",
       "       [ 0.        , -0.34169755,  1.20074205, ..., -0.98396375,\n",
       "        -0.50623083, -0.19710003],\n",
       "       [ 0.        , -0.34169755,  0.57670359, ...,  0.20409187,\n",
       "        -0.50623083, -0.19710003],\n",
       "       ...,\n",
       "       [ 0.        , -0.34169755,  0.36869078, ...,  0.54353633,\n",
       "        -0.50623083, -0.19710003],\n",
       "       [ 0.        , -0.34169755,  0.36869078, ...,  1.56186972,\n",
       "         0.45952251, -0.19710003],\n",
       "       [ 0.        , -0.34169755,  1.8247805 , ..., -0.30507483,\n",
       "        -0.50623083, -0.19710003]])"
      ]
     },
     "execution_count": 14,
     "metadata": {},
     "output_type": "execute_result"
    }
   ],
   "source": [
    "sc = StandardScaler()\n",
    "sc.fit_transform(X_train)\n",
    "sc.transform(X_test)"
   ]
  },
  {
   "cell_type": "code",
   "execution_count": 15,
   "id": "34a35b79",
   "metadata": {},
   "outputs": [
    {
     "data": {
      "text/html": [
       "<style>#sk-container-id-1 {color: black;}#sk-container-id-1 pre{padding: 0;}#sk-container-id-1 div.sk-toggleable {background-color: white;}#sk-container-id-1 label.sk-toggleable__label {cursor: pointer;display: block;width: 100%;margin-bottom: 0;padding: 0.3em;box-sizing: border-box;text-align: center;}#sk-container-id-1 label.sk-toggleable__label-arrow:before {content: \"▸\";float: left;margin-right: 0.25em;color: #696969;}#sk-container-id-1 label.sk-toggleable__label-arrow:hover:before {color: black;}#sk-container-id-1 div.sk-estimator:hover label.sk-toggleable__label-arrow:before {color: black;}#sk-container-id-1 div.sk-toggleable__content {max-height: 0;max-width: 0;overflow: hidden;text-align: left;background-color: #f0f8ff;}#sk-container-id-1 div.sk-toggleable__content pre {margin: 0.2em;color: black;border-radius: 0.25em;background-color: #f0f8ff;}#sk-container-id-1 input.sk-toggleable__control:checked~div.sk-toggleable__content {max-height: 200px;max-width: 100%;overflow: auto;}#sk-container-id-1 input.sk-toggleable__control:checked~label.sk-toggleable__label-arrow:before {content: \"▾\";}#sk-container-id-1 div.sk-estimator input.sk-toggleable__control:checked~label.sk-toggleable__label {background-color: #d4ebff;}#sk-container-id-1 div.sk-label input.sk-toggleable__control:checked~label.sk-toggleable__label {background-color: #d4ebff;}#sk-container-id-1 input.sk-hidden--visually {border: 0;clip: rect(1px 1px 1px 1px);clip: rect(1px, 1px, 1px, 1px);height: 1px;margin: -1px;overflow: hidden;padding: 0;position: absolute;width: 1px;}#sk-container-id-1 div.sk-estimator {font-family: monospace;background-color: #f0f8ff;border: 1px dotted black;border-radius: 0.25em;box-sizing: border-box;margin-bottom: 0.5em;}#sk-container-id-1 div.sk-estimator:hover {background-color: #d4ebff;}#sk-container-id-1 div.sk-parallel-item::after {content: \"\";width: 100%;border-bottom: 1px solid gray;flex-grow: 1;}#sk-container-id-1 div.sk-label:hover label.sk-toggleable__label {background-color: #d4ebff;}#sk-container-id-1 div.sk-serial::before {content: \"\";position: absolute;border-left: 1px solid gray;box-sizing: border-box;top: 0;bottom: 0;left: 50%;z-index: 0;}#sk-container-id-1 div.sk-serial {display: flex;flex-direction: column;align-items: center;background-color: white;padding-right: 0.2em;padding-left: 0.2em;position: relative;}#sk-container-id-1 div.sk-item {position: relative;z-index: 1;}#sk-container-id-1 div.sk-parallel {display: flex;align-items: stretch;justify-content: center;background-color: white;position: relative;}#sk-container-id-1 div.sk-item::before, #sk-container-id-1 div.sk-parallel-item::before {content: \"\";position: absolute;border-left: 1px solid gray;box-sizing: border-box;top: 0;bottom: 0;left: 50%;z-index: -1;}#sk-container-id-1 div.sk-parallel-item {display: flex;flex-direction: column;z-index: 1;position: relative;background-color: white;}#sk-container-id-1 div.sk-parallel-item:first-child::after {align-self: flex-end;width: 50%;}#sk-container-id-1 div.sk-parallel-item:last-child::after {align-self: flex-start;width: 50%;}#sk-container-id-1 div.sk-parallel-item:only-child::after {width: 0;}#sk-container-id-1 div.sk-dashed-wrapped {border: 1px dashed gray;margin: 0 0.4em 0.5em 0.4em;box-sizing: border-box;padding-bottom: 0.4em;background-color: white;}#sk-container-id-1 div.sk-label label {font-family: monospace;font-weight: bold;display: inline-block;line-height: 1.2em;}#sk-container-id-1 div.sk-label-container {text-align: center;}#sk-container-id-1 div.sk-container {/* jupyter's `normalize.less` sets `[hidden] { display: none; }` but bootstrap.min.css set `[hidden] { display: none !important; }` so we also need the `!important` here to be able to override the default hidden behavior on the sphinx rendered scikit-learn.org. See: https://github.com/scikit-learn/scikit-learn/issues/21755 */display: inline-block !important;position: relative;}#sk-container-id-1 div.sk-text-repr-fallback {display: none;}</style><div id=\"sk-container-id-1\" class=\"sk-top-container\"><div class=\"sk-text-repr-fallback\"><pre>SVC()</pre><b>In a Jupyter environment, please rerun this cell to show the HTML representation or trust the notebook. <br />On GitHub, the HTML representation is unable to render, please try loading this page with nbviewer.org.</b></div><div class=\"sk-container\" hidden><div class=\"sk-item\"><div class=\"sk-estimator sk-toggleable\"><input class=\"sk-toggleable__control sk-hidden--visually\" id=\"sk-estimator-id-1\" type=\"checkbox\" checked><label for=\"sk-estimator-id-1\" class=\"sk-toggleable__label sk-toggleable__label-arrow\">SVC</label><div class=\"sk-toggleable__content\"><pre>SVC()</pre></div></div></div></div></div>"
      ],
      "text/plain": [
       "SVC()"
      ]
     },
     "execution_count": 15,
     "metadata": {},
     "output_type": "execute_result"
    }
   ],
   "source": [
    "model = svm.SVC()\n",
    "model.fit(X_train,y_train)"
   ]
  },
  {
   "cell_type": "code",
   "execution_count": 16,
   "id": "d21ef72e",
   "metadata": {},
   "outputs": [
    {
     "data": {
      "text/plain": [
       "0.9861111111111112"
      ]
     },
     "execution_count": 16,
     "metadata": {},
     "output_type": "execute_result"
    }
   ],
   "source": [
    "model.score(X_test,y_test)"
   ]
  },
  {
   "cell_type": "code",
   "execution_count": 17,
   "id": "e1e01350",
   "metadata": {},
   "outputs": [
    {
     "data": {
      "text/plain": [
       "<Axes: >"
      ]
     },
     "execution_count": 17,
     "metadata": {},
     "output_type": "execute_result"
    },
    {
     "data": {
      "image/png": "[encoded data removed]",
      "text/plain": [
       "<Figure size 640x480 with 2 Axes>"
      ]
     },
     "metadata": {},
     "output_type": "display_data"
    }
   ],
   "source": [
    "sns.heatmap(confusion_matrix(y_test,model.predict(X_test)),annot=True,cmap = 'viridis')"
   ]
  },
  {
   "cell_type": "code",
   "execution_count": 14,
   "id": "563bb8c9",
   "metadata": {},
   "outputs": [
    {
     "name": "stdout",
     "output_type": "stream",
     "text": [
      "[   3   13   23   45   59   60   62   63   83   89   91   98  103  133\n",
      "  143  153  175  189  190  192  193  213  217  219  226  231  259  269\n",
      "  279  301  315  316  318  319  339  345  347  354  359  385  389  399\n",
      "  409  431  445  446  448  449  469  475  477  484  489  519  529  539\n",
      "  561  575  576  578  579  599  605  607  614  619  649  659  669  691\n",
      "  705  706  708  709  729  735  737  744  749  779  789  799  821  835\n",
      "  836  838  839  859  865  867  874  879  908  918  928  950  961  962\n",
      "  964  965  985  990  992  999 1004 1032 1042 1052 1074 1086 1087 1089\n",
      " 1090 1110 1116 1118 1125 1130 1160 1170 1180 1202 1216 1217 1219 1220\n",
      " 1240 1246 1248 1255 1260 1290 1300 1310 1332 1346 1347 1349 1350 1370\n",
      " 1376 1378 1385 1390 1418 1428 1438 1460 1474 1475 1477 1478 1498 1504\n",
      " 1506 1513 1518 1548 1558 1566 1588 1602 1603 1605 1606 1624 1630 1632\n",
      " 1639 1644 1670 1680 1690 1712 1726 1727 1729 1730 1750 1756 1758 1765\n",
      " 1770]\n"
     ]
    }
   ],
   "source": [
    "indices_of_3 = np.where(target == 3)[0]\n",
    "\n",
    "# Example: print some indices where \"3\" appears\n",
    "print(indices_of_3)  # Outputs a list of indices where \"3\" is located"
   ]
  },
  {
   "cell_type": "code",
   "execution_count": 15,
   "id": "80e3af91",
   "metadata": {},
   "outputs": [
    {
     "name": "stdout",
     "output_type": "stream",
     "text": [
      "[   4   14   24   41   64   68   87   97  100  110  111  121  124  134\n",
      "  144  154  171  194  198  225  228  238  239  247  250  260  270  280\n",
      "  297  320  324  343  353  356  366  367  377  380  390  400  410  427\n",
      "  450  454  473  483  486  496  497  507  510  520  530  540  557  580\n",
      "  584  603  613  616  626  627  637  640  650  660  670  687  710  714\n",
      "  733  743  746  756  757  767  770  780  790  800  817  840  844  863\n",
      "  873  876  886  887  897  900  909  919  929  946  966  970  988  998\n",
      " 1001 1011 1012 1022 1023 1033 1043 1053 1070 1091 1095 1114 1124 1127\n",
      " 1137 1138 1148 1151 1161 1171 1181 1198 1221 1225 1244 1254 1257 1267\n",
      " 1268 1278 1281 1291 1301 1311 1328 1351 1355 1374 1384 1387 1397 1398\n",
      " 1408 1411 1419 1429 1439 1456 1479 1483 1502 1512 1515 1525 1526 1536\n",
      " 1539 1549 1559 1567 1584 1607 1611 1628 1638 1641 1651 1652 1660 1661\n",
      " 1671 1681 1691 1708 1731 1735 1754 1764 1767 1777 1778 1788 1791]\n"
     ]
    }
   ],
   "source": [
    "indices_of_3 = np.where(target == 4)[0]\n",
    "\n",
    "# Example: print some indices where \"3\" appears\n",
    "print(indices_of_3)  # Outputs a list of indices where \"3\" is located"
   ]
  },
  {
   "cell_type": "code",
   "execution_count": 19,
   "id": "87096872",
   "metadata": {},
   "outputs": [
    {
     "data": {
      "image/png": "[encoded data removed]",
      "text/plain": [
       "<Figure size 640x480 with 1 Axes>"
      ]
     },
     "metadata": {},
     "output_type": "display_data"
    }
   ],
   "source": [
    "# Plot the digit\n",
    "plt.imshow(data[1708].reshape(8,8))\n",
    "plt.title(target[1708])\n",
    "plt.show()"
   ]
  },
  {
   "cell_type": "code",
   "execution_count": null,
   "id": "e365e1e1",
   "metadata": {},
   "outputs": [],
   "source": []
  }
 ],
 "metadata": {
  "kernelspec": {
   "display_name": "Python 3 (ipykernel)",
   "language": "python",
   "name": "python3"
  },
  "language_info": {
   "codemirror_mode": {
    "name": "ipython",
    "version": 3
   },
   "file_extension": ".py",
   "mimetype": "text/x-python",
   "name": "python",
   "nbconvert_exporter": "python",
   "pygments_lexer": "ipython3",
   "version": "3.11.4"
  }
 },
 "nbformat": 4,
 "nbformat_minor": 5
}
